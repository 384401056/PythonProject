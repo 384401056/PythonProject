{
 "cells": [
  {
   "cell_type": "code",
   "execution_count": 1,
   "metadata": {},
   "outputs": [
    {
     "name": "stdout",
     "output_type": "stream",
     "text": [
      "b'Hello, TensorFlow!'\n"
     ]
    }
   ],
   "source": [
    "import tensorflow as tf\n",
    "hello = tf.constant('Hello, TensorFlow!')\n",
    "sess = tf.Session()\n",
    "print (sess.run(hello))"
   ]
  },
  {
   "cell_type": "code",
   "execution_count": 18,
   "metadata": {},
   "outputs": [
    {
     "name": "stdout",
     "output_type": "stream",
     "text": [
      "a=2, b=3\n",
      "Addition with constants: 5\n",
      "Multiplication with constants: 6\n"
     ]
    }
   ],
   "source": [
    "a = tf.constant(2)\n",
    "b = tf.constant(3)\n",
    "with tf.Session() as sess:\n",
    "    print (\"a=2, b=3\")\n",
    "    print (\"Addition with constants: %i\" % sess.run(a+b))\n",
    "    print (\"Multiplication with constants: %i\" % sess.run(a*b))"
   ]
  },
  {
   "cell_type": "code",
   "execution_count": 19,
   "metadata": {},
   "outputs": [
    {
     "data": {
      "text/plain": [
       "b'Hello, TensorFlow By Python'"
      ]
     },
     "execution_count": 19,
     "metadata": {},
     "output_type": "execute_result"
    }
   ],
   "source": [
    "sess = tf.Session()\n",
    "sess.run(tf.constant(100)+tf.constant(7878))\n",
    "sess.run(tf.constant(\"Hello, TensorFlow\")+tf.constant(\" By Python\"))"
   ]
  },
  {
   "cell_type": "code",
   "execution_count": 21,
   "metadata": {},
   "outputs": [
    {
     "name": "stdout",
     "output_type": "stream",
     "text": [
      "Addition with variables: 5\n",
      "Multiplication with variables: 6\n"
     ]
    }
   ],
   "source": [
    "a = tf.placeholder(tf.int16)\n",
    "b = tf.placeholder(tf.int16)\n",
    "add = tf.add(a, b)\n",
    "mul = tf.multiply(a, b)\n",
    "with tf.Session() as sess:\n",
    "    # Run every operation with variable input\n",
    "    print (\"Addition with variables: %i\" % sess.run(add, feed_dict={a: 2, b: 3}))\n",
    "    print (\"Multiplication with variables: %i\" % sess.run(mul, feed_dict={a: 2, b: 3}))"
   ]
  },
  {
   "cell_type": "code",
   "execution_count": 5,
   "metadata": {},
   "outputs": [
    {
     "data": {
      "text/plain": [
       "array([ 3.,  5.], dtype=float32)"
      ]
     },
     "execution_count": 5,
     "metadata": {},
     "output_type": "execute_result"
    }
   ],
   "source": [
    "a = tf.constant([1.0, 2.0], name = 'a')\n",
    "b = tf.constant([2.0, 3.0], name = 'b')\n",
    "result = a + b\n",
    "sess = tf.Session()\n",
    "sess.run(result)"
   ]
  },
  {
   "cell_type": "code",
   "execution_count": 15,
   "metadata": {},
   "outputs": [
    {
     "name": "stdout",
     "output_type": "stream",
     "text": [
      "<function get_default_graph at 0x0000000007DF4EA0>\n"
     ]
    }
   ],
   "source": [
    "a = tf.constant([1.0, 2.0], name = 'a')\n",
    "b = tf.constant([2.0, 3.0], name = 'b')\n",
    "result = a + b\n",
    "print(tf.get_default_graph)"
   ]
  },
  {
   "cell_type": "code",
   "execution_count": 29,
   "metadata": {},
   "outputs": [
    {
     "name": "stdout",
     "output_type": "stream",
     "text": [
      "WARNING:tensorflow:From E:\\ProgramData\\Anaconda3\\envs\\tensorflow_env\\lib\\site-packages\\tensorflow\\python\\util\\tf_should_use.py:170: initialize_all_variables (from tensorflow.python.ops.variables) is deprecated and will be removed after 2017-03-02.\n",
      "Instructions for updating:\n",
      "Use `tf.global_variables_initializer` instead.\n",
      "[ 0.]\n",
      "WARNING:tensorflow:From E:\\ProgramData\\Anaconda3\\envs\\tensorflow_env\\lib\\site-packages\\tensorflow\\python\\util\\tf_should_use.py:170: initialize_all_variables (from tensorflow.python.ops.variables) is deprecated and will be removed after 2017-03-02.\n",
      "Instructions for updating:\n",
      "Use `tf.global_variables_initializer` instead.\n",
      "[ 1.]\n"
     ]
    }
   ],
   "source": [
    "\n",
    "g1 = tf.Graph()\n",
    "with g1.as_default():\n",
    "    # 初始化为0\n",
    "    init = tf.zeros(shape=[1])\n",
    "    v = tf.get_variable(\"v\", initializer=init)\n",
    "\n",
    "g2 = tf.Graph()\n",
    "with g2.as_default():\n",
    "    # 初始化为1\n",
    "    init = tf.ones(shape=[1])\n",
    "    v = tf.get_variable(\"v\", initializer=init)\n",
    "\n",
    "with tf.Session(graph=g1) as sess:\n",
    "    tf.initialize_all_variables().run()\n",
    "    with tf.variable_scope(\"\", reuse=True):\n",
    "        print(sess.run(tf.get_variable(\"v\")))\n",
    "\n",
    "\n",
    "with tf.Session(graph=g2) as sess:\n",
    "    tf.initialize_all_variables().run()\n",
    "    with tf.variable_scope(\"\", reuse=True):\n",
    "        print(sess.run(tf.get_variable(\"v\")))"
   ]
  },
  {
   "cell_type": "code",
   "execution_count": 48,
   "metadata": {},
   "outputs": [
    {
     "name": "stdout",
     "output_type": "stream",
     "text": [
      "Tensor(\"add_27:0\", shape=(3,), dtype=float32)\n",
      "[ 5.  6.  7.]\n"
     ]
    }
   ],
   "source": [
    "import tensorflow as tf\n",
    "\n",
    "a = tf.constant([1.0, 2.0, 3.0], name = 'a')\n",
    "b = tf.constant([4.0, 4.0, 4.0], name = 'b')\n",
    "\n",
    "g = tf.Graph()\n",
    "# 指定计算运行的设备，这里指定为显卡\n",
    "with g.device('/gpu:0'):\n",
    "    result = tf.add(a, b, name = 'add')\n",
    "    print(result)\n",
    "    # 通过会话来执行定义好的计算\n",
    "    with tf.Session().as_default():\n",
    "        print(result.eval())"
   ]
  },
  {
   "cell_type": "code",
   "execution_count": 53,
   "metadata": {},
   "outputs": [
    {
     "name": "stdout",
     "output_type": "stream",
     "text": [
      "[ 5.  6.  7.]\n",
      "[ 5.  6.  7.]\n",
      "[ 5.  6.  7.]\n"
     ]
    }
   ],
   "source": [
    "import tensorflow as tf\n",
    "\n",
    "a = tf.constant([1.0, 2.0, 3.0], name = 'a')\n",
    "b = tf.constant([4.0, 4.0, 4.0], name = 'b')\n",
    "result = tf.add(a, b, name = 'add')\n",
    "\n",
    "sess = tf.Session()\n",
    "with sess.as_default():\n",
    "    print(result.eval())\n",
    "\n",
    "# 同上\n",
    "print(sess.run(result))\n",
    "print(result.eval(session = sess))\n"
   ]
  },
  {
   "cell_type": "code",
   "execution_count": 64,
   "metadata": {},
   "outputs": [
    {
     "name": "stdout",
     "output_type": "stream",
     "text": [
      "<tf.Variable 'Variable_13:0' shape=(2, 3) dtype=float32_ref>\n",
      "<tf.Variable 'Variable_14:0' shape=(2, 3) dtype=int32_ref>\n",
      "<tf.Variable 'Variable_15:0' shape=(2, 3) dtype=int32_ref>\n",
      "<tf.Variable 'Variable_16:0' shape=(2, 3) dtype=int32_ref>\n"
     ]
    }
   ],
   "source": [
    "# 使用随机数来生成一个矩阵变量\n",
    "weight = tf.Variable(tf.random_normal([2, 3], stddev=2))\n",
    "print(weight)\n",
    "\n",
    "# 生成一个全0的矩阵\n",
    "weight2 = tf.Variable(tf.zeros([2, 3], tf.int32))\n",
    "print(weight2)\n",
    "\n",
    "# 生成一个全1的矩阵\n",
    "weight3 = tf.Variable(tf.ones([2, 3], tf.int32))\n",
    "print(weight3)\n",
    "\n",
    "# 生成一个给定数字的矩阵\n",
    "weight4 = tf.Variable(tf.fill([2, 3],9))\n",
    "print(weight4)"
   ]
  },
  {
   "cell_type": "code",
   "execution_count": 4,
   "metadata": {},
   "outputs": [
    {
     "name": "stdout",
     "output_type": "stream",
     "text": [
      "[[ 1.  2.]\n",
      " [ 3.  4.]]\n"
     ]
    }
   ],
   "source": [
    "import tensorflow as tf\n",
    "v1 = tf.constant([[1.0, 2.0], [3.0, 4.0]])\n",
    "v2 = tf.constant([[5.0, 6.0], [7.0, 8.0]])\n",
    "with tf.Session() as sess:\n",
    "    print(v1.eval())"
   ]
  },
  {
   "cell_type": "code",
   "execution_count": null,
   "metadata": {
    "collapsed": true
   },
   "outputs": [],
   "source": []
  }
 ],
 "metadata": {
  "kernelspec": {
   "display_name": "Python 3",
   "language": "python",
   "name": "python3"
  },
  "language_info": {
   "codemirror_mode": {
    "name": "ipython",
    "version": 3
   },
   "file_extension": ".py",
   "mimetype": "text/x-python",
   "name": "python",
   "nbconvert_exporter": "python",
   "pygments_lexer": "ipython3",
   "version": "3.6.2"
  }
 },
 "nbformat": 4,
 "nbformat_minor": 2
}
