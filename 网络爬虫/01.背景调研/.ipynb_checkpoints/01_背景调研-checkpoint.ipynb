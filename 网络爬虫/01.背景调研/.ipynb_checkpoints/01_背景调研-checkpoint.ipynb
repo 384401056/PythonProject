{
 "cells": [
  {
   "cell_type": "code",
   "execution_count": 2,
   "metadata": {},
   "outputs": [
    {
     "data": {
      "text/plain": [
       "{u'javascript-frameworks': [u'jQuery', u'Modernizr', u'jQuery UI'],\n",
       " u'programming-languages': [u'Python'],\n",
       " u'web-frameworks': [u'Web2py', u'Twitter Bootstrap'],\n",
       " u'web-servers': [u'Nginx']}"
      ]
     },
     "execution_count": 2,
     "metadata": {},
     "output_type": "execute_result"
    }
   ],
   "source": [
    "import builtwith as bw\n",
    "\n",
    "# 检查网站的技术类型\n",
    "bw.parse(\"http://example.webscraping.com/\")"
   ]
  },
  {
   "cell_type": "code",
   "execution_count": 3,
   "metadata": {},
   "outputs": [
    {
     "name": "stdout",
     "output_type": "stream",
     "text": [
      "{\n",
      "  \"updated_date\": [\n",
      "    \"2013-08-20 08:08:30\", \n",
      "    \"2013-08-20 08:08:29\"\n",
      "  ], \n",
      "  \"status\": [\n",
      "    \"clientDeleteProhibited https://icann.org/epp#clientDeleteProhibited\", \n",
      "    \"clientRenewProhibited https://icann.org/epp#clientRenewProhibited\", \n",
      "    \"clientTransferProhibited https://icann.org/epp#clientTransferProhibited\", \n",
      "    \"clientUpdateProhibited https://icann.org/epp#clientUpdateProhibited\", \n",
      "    \"clientTransferProhibited http://www.icann.org/epp#clientTransferProhibited\", \n",
      "    \"clientUpdateProhibited http://www.icann.org/epp#clientUpdateProhibited\", \n",
      "    \"clientRenewProhibited http://www.icann.org/epp#clientRenewProhibited\", \n",
      "    \"clientDeleteProhibited http://www.icann.org/epp#clientDeleteProhibited\"\n",
      "  ], \n",
      "  \"name\": \"Richard Penman\", \n",
      "  \"dnssec\": \"unsigned\", \n",
      "  \"city\": \"Melbourne\", \n",
      "  \"expiration_date\": \"2020-06-26 18:01:19\", \n",
      "  \"zipcode\": \"3056\", \n",
      "  \"domain_name\": \"WEBSCRAPING.COM\", \n",
      "  \"country\": \"AU\", \n",
      "  \"whois_server\": \"whois.godaddy.com\", \n",
      "  \"state\": \"Victoria\", \n",
      "  \"registrar\": \"GoDaddy.com, LLC\", \n",
      "  \"referral_url\": null, \n",
      "  \"address\": \"13/815 Leonard St\", \n",
      "  \"name_servers\": [\n",
      "    \"NS1.WEBFACTION.COM\", \n",
      "    \"NS2.WEBFACTION.COM\", \n",
      "    \"NS3.WEBFACTION.COM\", \n",
      "    \"NS4.WEBFACTION.COM\"\n",
      "  ], \n",
      "  \"org\": null, \n",
      "  \"creation_date\": \"2004-06-26 18:01:19\", \n",
      "  \"emails\": [\n",
      "    \"abuse@godaddy.com\", \n",
      "    \"contact@webscraping.com\"\n",
      "  ]\n",
      "}\n"
     ]
    }
   ],
   "source": [
    "import whois\n",
    "\n",
    "# 寻找网站所有者\n",
    "print whois.whois('http://example.webscraping.com/')"
   ]
  },
  {
   "cell_type": "code",
   "execution_count": 17,
   "metadata": {},
   "outputs": [
    {
     "data": {
      "text/plain": [
       "'<html>\\r\\n<head>\\r\\n\\t<script>\\r\\n\\t\\tlocation.replace(location.href.replace(\"https://\",\"http://\"));\\r\\n\\t</script>\\r\\n</head>\\r\\n<body>\\r\\n\\t<noscript><meta http-equiv=\"refresh\" content=\"0;url=http://www.baidu.com/\"></noscript>\\r\\n</body>\\r\\n</html>'"
      ]
     },
     "execution_count": 17,
     "metadata": {},
     "output_type": "execute_result"
    }
   ],
   "source": [
    "import urllib2\n",
    "\n",
    "def download(url):\n",
    "    print 'DownLoad....'\n",
    "    try:\n",
    "        html = urllib2.urlopen(url).read()\n",
    "    except urllib2.URLError as e:\n",
    "        print 'DownLoad Error:', e.reason\n",
    "        html = None\n",
    "    return html\n",
    "\n",
    "download('https://www.baidu.com')"
   ]
  },
  {
   "cell_type": "code",
   "execution_count": 1,
   "metadata": {},
   "outputs": [
    {
     "name": "stdout",
     "output_type": "stream",
     "text": [
      "Error:  Internal Server Error\n",
      "重试次数:  2\n",
      "Error:  Internal Server Error\n",
      "重试次数:  1\n",
      "Error:  Internal Server Error\n"
     ]
    }
   ],
   "source": [
    "import urllib2\n",
    "\n",
    "# 支持重试下载的新版本\n",
    "def download(url, re_times):\n",
    "    try:\n",
    "        html = urllib2.urlopen(url).read() \n",
    "    except urllib2.URLError as e:\n",
    "        print \"Error: \", e.reason\n",
    "        html = None\n",
    "        if re_times > 0:\n",
    "            print '重试次数: ',re_times\n",
    "            # 如果错误信息e中有code属性，并且e.code在500和600之间。\n",
    "            if hasattr(e,'code') and 500 <= e.code < 600:\n",
    "                # 递归调用,并把重试次数减1.\n",
    "                return download(url, re_times-1)\n",
    "        \n",
    "    return html\n",
    "\n",
    "download('http://httpstat.us/500',2)"
   ]
  },
  {
   "cell_type": "code",
   "execution_count": null,
   "metadata": {
    "collapsed": true
   },
   "outputs": [],
   "source": []
  }
 ],
 "metadata": {
  "kernelspec": {
   "display_name": "Python 2",
   "language": "python",
   "name": "python2"
  },
  "language_info": {
   "codemirror_mode": {
    "name": "ipython",
    "version": 2
   },
   "file_extension": ".py",
   "mimetype": "text/x-python",
   "name": "python",
   "nbconvert_exporter": "python",
   "pygments_lexer": "ipython2",
   "version": "2.7.13"
  }
 },
 "nbformat": 4,
 "nbformat_minor": 1
}
